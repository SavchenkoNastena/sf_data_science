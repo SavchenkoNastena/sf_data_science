{
 "cells": [
  {
   "cell_type": "markdown",
   "metadata": {},
   "source": [
    "## **Проект 1**. Исследование поведения пользователей\n",
    "#### *Игра Quiz Freeze*"
   ]
  },
  {
   "cell_type": "markdown",
   "metadata": {},
   "source": [
    "### Задачи проекта - проверить следующие гипотезы:\n",
    "- есть ли зависимость между выбранным уровнем сложности и вероятностью оплаты;\n",
    "- различается ли временной промежуток между регистрацией и оплатой у групп пользователей с разным уровнем сложности."
   ]
  },
  {
   "cell_type": "code",
   "execution_count": 2,
   "metadata": {},
   "outputs": [],
   "source": [
    "import pandas as pd"
   ]
  },
  {
   "cell_type": "code",
   "execution_count": 3,
   "metadata": {},
   "outputs": [
    {
     "data": {
      "text/html": [
       "<div>\n",
       "<style scoped>\n",
       "    .dataframe tbody tr th:only-of-type {\n",
       "        vertical-align: middle;\n",
       "    }\n",
       "\n",
       "    .dataframe tbody tr th {\n",
       "        vertical-align: top;\n",
       "    }\n",
       "\n",
       "    .dataframe thead th {\n",
       "        text-align: right;\n",
       "    }\n",
       "</style>\n",
       "<table border=\"1\" class=\"dataframe\">\n",
       "  <thead>\n",
       "    <tr style=\"text-align: right;\">\n",
       "      <th></th>\n",
       "      <th>id</th>\n",
       "      <th>event_type</th>\n",
       "      <th>selected_level</th>\n",
       "      <th>start_time</th>\n",
       "      <th>tutorial_id</th>\n",
       "      <th>user_id</th>\n",
       "    </tr>\n",
       "  </thead>\n",
       "  <tbody>\n",
       "    <tr>\n",
       "      <th>0</th>\n",
       "      <td>28903</td>\n",
       "      <td>registration</td>\n",
       "      <td>NaN</td>\n",
       "      <td>2016-05-11T23:40:55</td>\n",
       "      <td>NaN</td>\n",
       "      <td>12583</td>\n",
       "    </tr>\n",
       "    <tr>\n",
       "      <th>1</th>\n",
       "      <td>28904</td>\n",
       "      <td>registration</td>\n",
       "      <td>NaN</td>\n",
       "      <td>2016-05-11T23:49:58</td>\n",
       "      <td>NaN</td>\n",
       "      <td>12584</td>\n",
       "    </tr>\n",
       "    <tr>\n",
       "      <th>2</th>\n",
       "      <td>28905</td>\n",
       "      <td>registration</td>\n",
       "      <td>NaN</td>\n",
       "      <td>2016-05-12T00:53:07</td>\n",
       "      <td>NaN</td>\n",
       "      <td>12585</td>\n",
       "    </tr>\n",
       "    <tr>\n",
       "      <th>3</th>\n",
       "      <td>28906</td>\n",
       "      <td>tutorial_start</td>\n",
       "      <td>NaN</td>\n",
       "      <td>2016-05-12T01:32:20</td>\n",
       "      <td>17562.0</td>\n",
       "      <td>12585</td>\n",
       "    </tr>\n",
       "    <tr>\n",
       "      <th>4</th>\n",
       "      <td>28907</td>\n",
       "      <td>tutorial_finish</td>\n",
       "      <td>NaN</td>\n",
       "      <td>2016-05-12T01:34:53</td>\n",
       "      <td>17562.0</td>\n",
       "      <td>12585</td>\n",
       "    </tr>\n",
       "  </tbody>\n",
       "</table>\n",
       "</div>"
      ],
      "text/plain": [
       "      id       event_type selected_level           start_time  tutorial_id  \\\n",
       "0  28903     registration            NaN  2016-05-11T23:40:55          NaN   \n",
       "1  28904     registration            NaN  2016-05-11T23:49:58          NaN   \n",
       "2  28905     registration            NaN  2016-05-12T00:53:07          NaN   \n",
       "3  28906   tutorial_start            NaN  2016-05-12T01:32:20      17562.0   \n",
       "4  28907  tutorial_finish            NaN  2016-05-12T01:34:53      17562.0   \n",
       "\n",
       "   user_id  \n",
       "0    12583  \n",
       "1    12584  \n",
       "2    12585  \n",
       "3    12585  \n",
       "4    12585  "
      ]
     },
     "execution_count": 3,
     "metadata": {},
     "output_type": "execute_result"
    }
   ],
   "source": [
    "event_df = pd.read_csv('data/7_4_Events.csv')\n",
    "event_df.head()"
   ]
  },
  {
   "cell_type": "code",
   "execution_count": 4,
   "metadata": {},
   "outputs": [
    {
     "data": {
      "text/html": [
       "<div>\n",
       "<style scoped>\n",
       "    .dataframe tbody tr th:only-of-type {\n",
       "        vertical-align: middle;\n",
       "    }\n",
       "\n",
       "    .dataframe tbody tr th {\n",
       "        vertical-align: top;\n",
       "    }\n",
       "\n",
       "    .dataframe thead th {\n",
       "        text-align: right;\n",
       "    }\n",
       "</style>\n",
       "<table border=\"1\" class=\"dataframe\">\n",
       "  <thead>\n",
       "    <tr style=\"text-align: right;\">\n",
       "      <th></th>\n",
       "      <th>id</th>\n",
       "      <th>event_type</th>\n",
       "      <th>selected_level</th>\n",
       "      <th>start_time</th>\n",
       "      <th>tutorial_id</th>\n",
       "      <th>user_id</th>\n",
       "    </tr>\n",
       "  </thead>\n",
       "  <tbody>\n",
       "    <tr>\n",
       "      <th>51405</th>\n",
       "      <td>80308</td>\n",
       "      <td>registration</td>\n",
       "      <td>NaN</td>\n",
       "      <td>2018-01-01T03:48:40</td>\n",
       "      <td>NaN</td>\n",
       "      <td>27832</td>\n",
       "    </tr>\n",
       "    <tr>\n",
       "      <th>51406</th>\n",
       "      <td>80309</td>\n",
       "      <td>registration</td>\n",
       "      <td>NaN</td>\n",
       "      <td>2018-01-01T04:07:25</td>\n",
       "      <td>NaN</td>\n",
       "      <td>27833</td>\n",
       "    </tr>\n",
       "    <tr>\n",
       "      <th>51407</th>\n",
       "      <td>80310</td>\n",
       "      <td>registration</td>\n",
       "      <td>NaN</td>\n",
       "      <td>2018-01-01T08:35:10</td>\n",
       "      <td>NaN</td>\n",
       "      <td>27834</td>\n",
       "    </tr>\n",
       "    <tr>\n",
       "      <th>51408</th>\n",
       "      <td>80311</td>\n",
       "      <td>registration</td>\n",
       "      <td>NaN</td>\n",
       "      <td>2018-01-01T11:54:47</td>\n",
       "      <td>NaN</td>\n",
       "      <td>27835</td>\n",
       "    </tr>\n",
       "    <tr>\n",
       "      <th>51409</th>\n",
       "      <td>80312</td>\n",
       "      <td>registration</td>\n",
       "      <td>NaN</td>\n",
       "      <td>2018-01-01T13:28:07</td>\n",
       "      <td>NaN</td>\n",
       "      <td>27836</td>\n",
       "    </tr>\n",
       "    <tr>\n",
       "      <th>51410</th>\n",
       "      <td>80313</td>\n",
       "      <td>registration</td>\n",
       "      <td>NaN</td>\n",
       "      <td>2018-01-01T14:08:40</td>\n",
       "      <td>NaN</td>\n",
       "      <td>27837</td>\n",
       "    </tr>\n",
       "    <tr>\n",
       "      <th>51411</th>\n",
       "      <td>80314</td>\n",
       "      <td>registration</td>\n",
       "      <td>NaN</td>\n",
       "      <td>2018-01-01T14:42:58</td>\n",
       "      <td>NaN</td>\n",
       "      <td>27838</td>\n",
       "    </tr>\n",
       "    <tr>\n",
       "      <th>51412</th>\n",
       "      <td>80315</td>\n",
       "      <td>tutorial_start</td>\n",
       "      <td>NaN</td>\n",
       "      <td>2018-01-01T14:54:40</td>\n",
       "      <td>31505.0</td>\n",
       "      <td>27836</td>\n",
       "    </tr>\n",
       "    <tr>\n",
       "      <th>51413</th>\n",
       "      <td>80316</td>\n",
       "      <td>tutorial_start</td>\n",
       "      <td>NaN</td>\n",
       "      <td>2018-01-01T15:00:51</td>\n",
       "      <td>31506.0</td>\n",
       "      <td>27835</td>\n",
       "    </tr>\n",
       "    <tr>\n",
       "      <th>51414</th>\n",
       "      <td>80317</td>\n",
       "      <td>tutorial_finish</td>\n",
       "      <td>NaN</td>\n",
       "      <td>2018-01-01T15:06:15</td>\n",
       "      <td>31506.0</td>\n",
       "      <td>27835</td>\n",
       "    </tr>\n",
       "  </tbody>\n",
       "</table>\n",
       "</div>"
      ],
      "text/plain": [
       "          id       event_type selected_level           start_time  \\\n",
       "51405  80308     registration            NaN  2018-01-01T03:48:40   \n",
       "51406  80309     registration            NaN  2018-01-01T04:07:25   \n",
       "51407  80310     registration            NaN  2018-01-01T08:35:10   \n",
       "51408  80311     registration            NaN  2018-01-01T11:54:47   \n",
       "51409  80312     registration            NaN  2018-01-01T13:28:07   \n",
       "51410  80313     registration            NaN  2018-01-01T14:08:40   \n",
       "51411  80314     registration            NaN  2018-01-01T14:42:58   \n",
       "51412  80315   tutorial_start            NaN  2018-01-01T14:54:40   \n",
       "51413  80316   tutorial_start            NaN  2018-01-01T15:00:51   \n",
       "51414  80317  tutorial_finish            NaN  2018-01-01T15:06:15   \n",
       "\n",
       "       tutorial_id  user_id  \n",
       "51405          NaN    27832  \n",
       "51406          NaN    27833  \n",
       "51407          NaN    27834  \n",
       "51408          NaN    27835  \n",
       "51409          NaN    27836  \n",
       "51410          NaN    27837  \n",
       "51411          NaN    27838  \n",
       "51412      31505.0    27836  \n",
       "51413      31506.0    27835  \n",
       "51414      31506.0    27835  "
      ]
     },
     "execution_count": 4,
     "metadata": {},
     "output_type": "execute_result"
    }
   ],
   "source": [
    "mask_for_year = (event_df['event_type'] == 'registration') & (event_df['start_time'] < '2019-01-01') & (event_df['start_time'] >= '2018-01-01')\n",
    "registered_2018 = event_df[mask_for_year].user_id.values\n",
    "event18_df = event_df[event_df['user_id'].isin(registered_2018)]\n",
    "event18_df.head(10)\n"
   ]
  },
  {
   "cell_type": "code",
   "execution_count": 5,
   "metadata": {},
   "outputs": [
    {
     "data": {
      "text/html": [
       "<div>\n",
       "<style scoped>\n",
       "    .dataframe tbody tr th:only-of-type {\n",
       "        vertical-align: middle;\n",
       "    }\n",
       "\n",
       "    .dataframe tbody tr th {\n",
       "        vertical-align: top;\n",
       "    }\n",
       "\n",
       "    .dataframe thead th {\n",
       "        text-align: right;\n",
       "    }\n",
       "</style>\n",
       "<table border=\"1\" class=\"dataframe\">\n",
       "  <thead>\n",
       "    <tr style=\"text-align: right;\">\n",
       "      <th></th>\n",
       "      <th>id</th>\n",
       "      <th>user_id</th>\n",
       "      <th>event_datetime</th>\n",
       "      <th>amount</th>\n",
       "    </tr>\n",
       "  </thead>\n",
       "  <tbody>\n",
       "    <tr>\n",
       "      <th>0</th>\n",
       "      <td>15674</td>\n",
       "      <td>12584</td>\n",
       "      <td>2016-05-12T10:34:16</td>\n",
       "      <td>100</td>\n",
       "    </tr>\n",
       "    <tr>\n",
       "      <th>1</th>\n",
       "      <td>15675</td>\n",
       "      <td>12985</td>\n",
       "      <td>2016-05-13T08:25:56</td>\n",
       "      <td>50</td>\n",
       "    </tr>\n",
       "    <tr>\n",
       "      <th>2</th>\n",
       "      <td>15676</td>\n",
       "      <td>12828</td>\n",
       "      <td>2016-05-13T16:33:46</td>\n",
       "      <td>50</td>\n",
       "    </tr>\n",
       "    <tr>\n",
       "      <th>3</th>\n",
       "      <td>15677</td>\n",
       "      <td>12598</td>\n",
       "      <td>2016-05-14T01:09:37</td>\n",
       "      <td>150</td>\n",
       "    </tr>\n",
       "    <tr>\n",
       "      <th>4</th>\n",
       "      <td>15678</td>\n",
       "      <td>13037</td>\n",
       "      <td>2016-05-14T01:24:46</td>\n",
       "      <td>100</td>\n",
       "    </tr>\n",
       "  </tbody>\n",
       "</table>\n",
       "</div>"
      ],
      "text/plain": [
       "      id  user_id       event_datetime  amount\n",
       "0  15674    12584  2016-05-12T10:34:16     100\n",
       "1  15675    12985  2016-05-13T08:25:56      50\n",
       "2  15676    12828  2016-05-13T16:33:46      50\n",
       "3  15677    12598  2016-05-14T01:09:37     150\n",
       "4  15678    13037  2016-05-14T01:24:46     100"
      ]
     },
     "execution_count": 5,
     "metadata": {},
     "output_type": "execute_result"
    }
   ],
   "source": [
    "purchase_df = pd.read_csv('data/purchase.csv')\n",
    "purchase_df.head()"
   ]
  },
  {
   "cell_type": "code",
   "execution_count": 6,
   "metadata": {},
   "outputs": [
    {
     "name": "stdout",
     "output_type": "stream",
     "text": [
      "<class 'pandas.core.frame.DataFrame'>\n",
      "Int64Index: 1600 entries, 1171 to 2778\n",
      "Data columns (total 4 columns):\n",
      " #   Column          Non-Null Count  Dtype \n",
      "---  ------          --------------  ----- \n",
      " 0   id              1600 non-null   int64 \n",
      " 1   user_id         1600 non-null   int64 \n",
      " 2   event_datetime  1600 non-null   object\n",
      " 3   amount          1600 non-null   int64 \n",
      "dtypes: int64(3), object(1)\n",
      "memory usage: 62.5+ KB\n"
     ]
    }
   ],
   "source": [
    "purchase18_df = purchase_df[purchase_df['user_id'].isin(registered_2018)]\n",
    "purchase18_df.info()"
   ]
  },
  {
   "cell_type": "code",
   "execution_count": 7,
   "metadata": {},
   "outputs": [
    {
     "name": "stdout",
     "output_type": "stream",
     "text": [
      "<class 'pandas.core.frame.DataFrame'>\n",
      "Int64Index: 68559 entries, 0 to 68558\n",
      "Data columns (total 8 columns):\n",
      " #   Column          Non-Null Count  Dtype  \n",
      "---  ------          --------------  -----  \n",
      " 0   event_id        66959 non-null  float64\n",
      " 1   event_type      68559 non-null  object \n",
      " 2   selected_level  8342 non-null   object \n",
      " 3   start_time      68559 non-null  object \n",
      " 4   tutorial_id     32954 non-null  float64\n",
      " 5   user_id         68559 non-null  int64  \n",
      " 6   purchase_id     1600 non-null   float64\n",
      " 7   amount          1600 non-null   float64\n",
      "dtypes: float64(4), int64(1), object(3)\n",
      "memory usage: 4.7+ MB\n"
     ]
    },
    {
     "name": "stderr",
     "output_type": "stream",
     "text": [
      "C:\\Users\\Анастасия\\AppData\\Local\\Temp\\ipykernel_8308\\849561813.py:1: SettingWithCopyWarning: \n",
      "A value is trying to be set on a copy of a slice from a DataFrame.\n",
      "Try using .loc[row_indexer,col_indexer] = value instead\n",
      "\n",
      "See the caveats in the documentation: https://pandas.pydata.org/pandas-docs/stable/user_guide/indexing.html#returning-a-view-versus-a-copy\n",
      "  purchase18_df['event_type'] = 'purchase'\n"
     ]
    }
   ],
   "source": [
    "#Объединяем таблицы событий и покупок\n",
    "\n",
    "purchase18_df['event_type'] = 'purchase'\n",
    "\n",
    "event18_df = event18_df.rename(columns = {'id': 'event_id'})\n",
    "purchase18_df = purchase18_df.rename(columns = {'id': 'purchase_id', 'event_datetime':'start_time'})\n",
    "\n",
    "total_events18 = pd.concat([event18_df, purchase18_df])\n",
    "\n",
    "#сбрасываем индексы в объединенной таблице\n",
    "total_events18 = total_events18.reset_index(drop=True).sort_values('start_time')\n",
    "total_events18.info()"
   ]
  },
  {
   "cell_type": "code",
   "execution_count": 8,
   "metadata": {},
   "outputs": [
    {
     "name": "stdout",
     "output_type": "stream",
     "text": [
      "<class 'pandas.core.frame.DataFrame'>\n",
      "Int64Index: 68559 entries, 0 to 68558\n",
      "Data columns (total 8 columns):\n",
      " #   Column          Non-Null Count  Dtype         \n",
      "---  ------          --------------  -----         \n",
      " 0   event_id        66959 non-null  float64       \n",
      " 1   event_type      68559 non-null  object        \n",
      " 2   selected_level  8342 non-null   object        \n",
      " 3   start_time      68559 non-null  datetime64[ns]\n",
      " 4   tutorial_id     32954 non-null  float64       \n",
      " 5   user_id         68559 non-null  int64         \n",
      " 6   purchase_id     1600 non-null   float64       \n",
      " 7   amount          1600 non-null   float64       \n",
      "dtypes: datetime64[ns](1), float64(4), int64(1), object(2)\n",
      "memory usage: 4.7+ MB\n"
     ]
    }
   ],
   "source": [
    "#Преобразуем тип данных \n",
    "total_events18['start_time'] = pd.to_datetime(total_events18['start_time'])\n",
    "total_events18.info()"
   ]
  },
  {
   "cell_type": "code",
   "execution_count": 9,
   "metadata": {},
   "outputs": [
    {
     "data": {
      "text/plain": [
       "medium    4645\n",
       "easy      2448\n",
       "hard      1249\n",
       "Name: selected_level, dtype: int64"
      ]
     },
     "execution_count": 9,
     "metadata": {},
     "output_type": "execute_result"
    }
   ],
   "source": [
    "total_events18['selected_level'].value_counts()"
   ]
  },
  {
   "cell_type": "markdown",
   "metadata": {},
   "source": [
    "##### Группа пользователей, выбравших уровень \"easy\""
   ]
  },
  {
   "cell_type": "code",
   "execution_count": 55,
   "metadata": {},
   "outputs": [
    {
     "name": "stdout",
     "output_type": "stream",
     "text": [
      "Количество пользователей, выбравших уровень easy: 2448\n",
      "Процент пользователей, выбравших уровень easy, от общего количества пользователей: 12.29%\n"
     ]
    }
   ],
   "source": [
    "users_easy_level = total_events18[total_events18['selected_level'] == 'easy']['user_id'].unique()\n",
    "print(\"Количество пользователей, выбравших уровень easy:\", len(users_easy_level))\n",
    "print(\"Процент пользователей, выбравших уровень easy, от общего количества пользователей: {:.2%}\".format(len(users_easy_level)/len(registered_2018)))"
   ]
  },
  {
   "cell_type": "code",
   "execution_count": 47,
   "metadata": {},
   "outputs": [
    {
     "name": "stdout",
     "output_type": "stream",
     "text": [
      "Количество пользователей, выбравших уровень easy и оплативших впоследствии пакет вопросов: 189\n"
     ]
    }
   ],
   "source": [
    "easy_level = total_events18[total_events18['user_id'].isin(users_easy_level)]\n",
    "users_easy_level_purchase = easy_level[easy_level['event_type'] == 'purchase']['user_id'].unique()\n",
    "print(\"Количество пользователей, выбравших уровень easy и оплативших впоследствии пакет вопросов:\", len(users_easy_level_purchase))"
   ]
  },
  {
   "cell_type": "code",
   "execution_count": 12,
   "metadata": {},
   "outputs": [
    {
     "name": "stdout",
     "output_type": "stream",
     "text": [
      "Процент оплат среди пользователей, выбравших уровень easy: 7.72%\n"
     ]
    }
   ],
   "source": [
    "percent_of_purchase_easy = len(users_easy_level_purchase) / len(users_easy_level)\n",
    "print(\n",
    "    \"Процент оплат среди пользователей, выбравших уровень easy: {:.2%}\".format(percent_of_purchase_easy)\n",
    ")"
   ]
  },
  {
   "cell_type": "markdown",
   "metadata": {},
   "source": [
    "##### Группа пользователей, выбравших уровень \"medium\""
   ]
  },
  {
   "cell_type": "code",
   "execution_count": 56,
   "metadata": {},
   "outputs": [
    {
     "name": "stdout",
     "output_type": "stream",
     "text": [
      "Количество пользователей, выбравших уровень medium: 4645\n",
      "Процент пользователей, выбравших уровень medium, от общего количества пользователей: 23.31%\n"
     ]
    }
   ],
   "source": [
    "users_medium_level = total_events18[total_events18['selected_level'] == 'medium']['user_id'].unique()\n",
    "print(\"Количество пользователей, выбравших уровень medium:\", len(users_medium_level))\n",
    "print(\"Процент пользователей, выбравших уровень medium, от общего количества пользователей: {:.2%}\".format(len(users_medium_level)/len(registered_2018)))"
   ]
  },
  {
   "cell_type": "code",
   "execution_count": 49,
   "metadata": {},
   "outputs": [
    {
     "name": "stdout",
     "output_type": "stream",
     "text": [
      "Количество пользователей, выбравших уровень medium и оплативших впоследствии пакет вопросов: 969\n"
     ]
    }
   ],
   "source": [
    "medium_level = total_events18[total_events18['user_id'].isin(users_medium_level)]\n",
    "users_medium_level_purchase = medium_level[medium_level['event_type'] == 'purchase']['user_id'].unique()\n",
    "print(\"Количество пользователей, выбравших уровень medium и оплативших впоследствии пакет вопросов:\", len(users_medium_level_purchase))"
   ]
  },
  {
   "cell_type": "code",
   "execution_count": 15,
   "metadata": {},
   "outputs": [
    {
     "name": "stdout",
     "output_type": "stream",
     "text": [
      "Процент оплат среди пользователей, выбравших уровень medium: 20.86%\n"
     ]
    }
   ],
   "source": [
    "percent_of_purchase_medium = len(users_medium_level_purchase) / len(users_medium_level)\n",
    "print(\n",
    "    \"Процент оплат среди пользователей, выбравших уровень medium: {:.2%}\".format(percent_of_purchase_medium)\n",
    ")"
   ]
  },
  {
   "cell_type": "markdown",
   "metadata": {},
   "source": [
    "##### Группа пользователей, выбравших уровень \"hard\""
   ]
  },
  {
   "cell_type": "code",
   "execution_count": 57,
   "metadata": {},
   "outputs": [
    {
     "name": "stdout",
     "output_type": "stream",
     "text": [
      "Количество пользователей, выбравших уровень hard: 1249\n",
      "Процент пользователей, выбравших уровень hard, от общего количества пользователей: 6.27%\n"
     ]
    }
   ],
   "source": [
    "users_hard_level = total_events18[total_events18['selected_level'] == 'hard']['user_id'].unique()\n",
    "print(\"Количество пользователей, выбравших уровень hard:\", len(users_hard_level))\n",
    "print(\"Процент пользователей, выбравших уровень hard, от общего количества пользователей: {:.2%}\".format(len(users_hard_level)/len(registered_2018)))"
   ]
  },
  {
   "cell_type": "code",
   "execution_count": 51,
   "metadata": {},
   "outputs": [
    {
     "name": "stdout",
     "output_type": "stream",
     "text": [
      "Количество пользователей, выбравших уровень hard и оплативших впоследствии пакет вопросов: 442\n"
     ]
    }
   ],
   "source": [
    "hard_level = total_events18[total_events18['user_id'].isin(users_hard_level)]\n",
    "users_hard_level_purchase = hard_level[hard_level['event_type'] == 'purchase']['user_id'].unique()\n",
    "print(\"Количество пользователей, выбравших уровень hard и оплативших впоследствии пакет вопросов:\", len(users_hard_level_purchase))"
   ]
  },
  {
   "cell_type": "code",
   "execution_count": 18,
   "metadata": {},
   "outputs": [
    {
     "name": "stdout",
     "output_type": "stream",
     "text": [
      "Процент оплат среди пользователей, выбравших уровень hard: 35.39%\n"
     ]
    }
   ],
   "source": [
    "percent_of_purchase_hard = len(users_hard_level_purchase) / len(users_hard_level)\n",
    "print(\n",
    "    \"Процент оплат среди пользователей, выбравших уровень hard: {:.2%}\".format(percent_of_purchase_hard)\n",
    ")"
   ]
  },
  {
   "cell_type": "markdown",
   "metadata": {},
   "source": [
    "**Вывод.**  \n",
    "Сегментирование пользователей на группы по выбранному ими уровню сложности позволяет сделать следующие выводы:\n",
    "- чем сложнее выбранный пользователем уровень, тем выше вероятность совершения им оплаты пакета вопросов;\n",
    "- несмотря на то, что уровень hard выбирают всего 6% всех зарегистрированных, вероятность совершения оплаты этими пользователями выше; \n",
    "- наиболее популярный уровень среди пользователей - medium - его выбирают 23% всех пользователей, 21% из которых впоследствии совершает оплату."
   ]
  },
  {
   "cell_type": "markdown",
   "metadata": {},
   "source": [
    "##### Анализ временных промежутков"
   ]
  },
  {
   "cell_type": "code",
   "execution_count": 23,
   "metadata": {},
   "outputs": [
    {
     "data": {
      "text/html": [
       "<div>\n",
       "<style scoped>\n",
       "    .dataframe tbody tr th:only-of-type {\n",
       "        vertical-align: middle;\n",
       "    }\n",
       "\n",
       "    .dataframe tbody tr th {\n",
       "        vertical-align: top;\n",
       "    }\n",
       "\n",
       "    .dataframe thead th {\n",
       "        text-align: right;\n",
       "    }\n",
       "</style>\n",
       "<table border=\"1\" class=\"dataframe\">\n",
       "  <thead>\n",
       "    <tr style=\"text-align: right;\">\n",
       "      <th></th>\n",
       "      <th>user_id</th>\n",
       "      <th>registration_time</th>\n",
       "    </tr>\n",
       "  </thead>\n",
       "  <tbody>\n",
       "    <tr>\n",
       "      <th>0</th>\n",
       "      <td>27832</td>\n",
       "      <td>2018-01-01 03:48:40</td>\n",
       "    </tr>\n",
       "    <tr>\n",
       "      <th>1</th>\n",
       "      <td>27833</td>\n",
       "      <td>2018-01-01 04:07:25</td>\n",
       "    </tr>\n",
       "    <tr>\n",
       "      <th>2</th>\n",
       "      <td>27834</td>\n",
       "      <td>2018-01-01 08:35:10</td>\n",
       "    </tr>\n",
       "    <tr>\n",
       "      <th>3</th>\n",
       "      <td>27835</td>\n",
       "      <td>2018-01-01 11:54:47</td>\n",
       "    </tr>\n",
       "    <tr>\n",
       "      <th>4</th>\n",
       "      <td>27836</td>\n",
       "      <td>2018-01-01 13:28:07</td>\n",
       "    </tr>\n",
       "    <tr>\n",
       "      <th>...</th>\n",
       "      <td>...</td>\n",
       "      <td>...</td>\n",
       "    </tr>\n",
       "    <tr>\n",
       "      <th>66941</th>\n",
       "      <td>47753</td>\n",
       "      <td>2018-12-31 18:58:55</td>\n",
       "    </tr>\n",
       "    <tr>\n",
       "      <th>66942</th>\n",
       "      <td>47754</td>\n",
       "      <td>2018-12-31 19:14:08</td>\n",
       "    </tr>\n",
       "    <tr>\n",
       "      <th>66947</th>\n",
       "      <td>47755</td>\n",
       "      <td>2018-12-31 21:15:14</td>\n",
       "    </tr>\n",
       "    <tr>\n",
       "      <th>66950</th>\n",
       "      <td>47756</td>\n",
       "      <td>2018-12-31 23:17:30</td>\n",
       "    </tr>\n",
       "    <tr>\n",
       "      <th>66951</th>\n",
       "      <td>47757</td>\n",
       "      <td>2018-12-31 23:18:06</td>\n",
       "    </tr>\n",
       "  </tbody>\n",
       "</table>\n",
       "<p>19926 rows × 2 columns</p>\n",
       "</div>"
      ],
      "text/plain": [
       "       user_id   registration_time\n",
       "0        27832 2018-01-01 03:48:40\n",
       "1        27833 2018-01-01 04:07:25\n",
       "2        27834 2018-01-01 08:35:10\n",
       "3        27835 2018-01-01 11:54:47\n",
       "4        27836 2018-01-01 13:28:07\n",
       "...        ...                 ...\n",
       "66941    47753 2018-12-31 18:58:55\n",
       "66942    47754 2018-12-31 19:14:08\n",
       "66947    47755 2018-12-31 21:15:14\n",
       "66950    47756 2018-12-31 23:17:30\n",
       "66951    47757 2018-12-31 23:18:06\n",
       "\n",
       "[19926 rows x 2 columns]"
      ]
     },
     "execution_count": 23,
     "metadata": {},
     "output_type": "execute_result"
    }
   ],
   "source": [
    "#Вынесем данные о времени регистрации пользователей в отдельную таблицу\n",
    "registration_df = total_events18[total_events18['event_type'] == 'registration'][['user_id', 'start_time']].rename(columns = {'start_time':'registration_time'})\n",
    "registration_df"
   ]
  },
  {
   "cell_type": "code",
   "execution_count": 26,
   "metadata": {},
   "outputs": [
    {
     "data": {
      "text/html": [
       "<div>\n",
       "<style scoped>\n",
       "    .dataframe tbody tr th:only-of-type {\n",
       "        vertical-align: middle;\n",
       "    }\n",
       "\n",
       "    .dataframe tbody tr th {\n",
       "        vertical-align: top;\n",
       "    }\n",
       "\n",
       "    .dataframe thead th {\n",
       "        text-align: right;\n",
       "    }\n",
       "</style>\n",
       "<table border=\"1\" class=\"dataframe\">\n",
       "  <thead>\n",
       "    <tr style=\"text-align: right;\">\n",
       "      <th></th>\n",
       "      <th>user_id</th>\n",
       "      <th>purchase_time</th>\n",
       "    </tr>\n",
       "  </thead>\n",
       "  <tbody>\n",
       "    <tr>\n",
       "      <th>66959</th>\n",
       "      <td>27845</td>\n",
       "      <td>2018-01-03 18:53:43</td>\n",
       "    </tr>\n",
       "    <tr>\n",
       "      <th>66960</th>\n",
       "      <td>27865</td>\n",
       "      <td>2018-01-04 14:46:10</td>\n",
       "    </tr>\n",
       "    <tr>\n",
       "      <th>66961</th>\n",
       "      <td>27911</td>\n",
       "      <td>2018-01-07 08:19:12</td>\n",
       "    </tr>\n",
       "    <tr>\n",
       "      <th>66962</th>\n",
       "      <td>27910</td>\n",
       "      <td>2018-01-07 12:11:34</td>\n",
       "    </tr>\n",
       "    <tr>\n",
       "      <th>66963</th>\n",
       "      <td>27940</td>\n",
       "      <td>2018-01-07 13:16:41</td>\n",
       "    </tr>\n",
       "    <tr>\n",
       "      <th>...</th>\n",
       "      <td>...</td>\n",
       "      <td>...</td>\n",
       "    </tr>\n",
       "    <tr>\n",
       "      <th>68554</th>\n",
       "      <td>47498</td>\n",
       "      <td>2019-01-02 03:48:19</td>\n",
       "    </tr>\n",
       "    <tr>\n",
       "      <th>68555</th>\n",
       "      <td>47647</td>\n",
       "      <td>2019-01-02 23:26:26</td>\n",
       "    </tr>\n",
       "    <tr>\n",
       "      <th>68556</th>\n",
       "      <td>47554</td>\n",
       "      <td>2019-01-03 00:36:36</td>\n",
       "    </tr>\n",
       "    <tr>\n",
       "      <th>68557</th>\n",
       "      <td>47742</td>\n",
       "      <td>2019-01-04 12:51:41</td>\n",
       "    </tr>\n",
       "    <tr>\n",
       "      <th>68558</th>\n",
       "      <td>47732</td>\n",
       "      <td>2019-01-06 07:14:25</td>\n",
       "    </tr>\n",
       "  </tbody>\n",
       "</table>\n",
       "<p>1600 rows × 2 columns</p>\n",
       "</div>"
      ],
      "text/plain": [
       "       user_id       purchase_time\n",
       "66959    27845 2018-01-03 18:53:43\n",
       "66960    27865 2018-01-04 14:46:10\n",
       "66961    27911 2018-01-07 08:19:12\n",
       "66962    27910 2018-01-07 12:11:34\n",
       "66963    27940 2018-01-07 13:16:41\n",
       "...        ...                 ...\n",
       "68554    47498 2019-01-02 03:48:19\n",
       "68555    47647 2019-01-02 23:26:26\n",
       "68556    47554 2019-01-03 00:36:36\n",
       "68557    47742 2019-01-04 12:51:41\n",
       "68558    47732 2019-01-06 07:14:25\n",
       "\n",
       "[1600 rows x 2 columns]"
      ]
     },
     "execution_count": 26,
     "metadata": {},
     "output_type": "execute_result"
    }
   ],
   "source": [
    "#Вынесем данные о времени совершения покупки пользователем в отдельную таблицу\n",
    "purchase_time_df = total_events18[total_events18['event_type'] == 'purchase'][['user_id', 'start_time']].rename(columns = {'start_time':'purchase_time'})\n",
    "purchase_time_df"
   ]
  },
  {
   "cell_type": "code",
   "execution_count": 33,
   "metadata": {},
   "outputs": [
    {
     "data": {
      "text/html": [
       "<div>\n",
       "<style scoped>\n",
       "    .dataframe tbody tr th:only-of-type {\n",
       "        vertical-align: middle;\n",
       "    }\n",
       "\n",
       "    .dataframe tbody tr th {\n",
       "        vertical-align: top;\n",
       "    }\n",
       "\n",
       "    .dataframe thead th {\n",
       "        text-align: right;\n",
       "    }\n",
       "</style>\n",
       "<table border=\"1\" class=\"dataframe\">\n",
       "  <thead>\n",
       "    <tr style=\"text-align: right;\">\n",
       "      <th></th>\n",
       "      <th>user_id</th>\n",
       "      <th>registration_time</th>\n",
       "      <th>purchase_time</th>\n",
       "    </tr>\n",
       "  </thead>\n",
       "  <tbody>\n",
       "    <tr>\n",
       "      <th>0</th>\n",
       "      <td>27845</td>\n",
       "      <td>2018-01-02 01:35:56</td>\n",
       "      <td>2018-01-03 18:53:43</td>\n",
       "    </tr>\n",
       "    <tr>\n",
       "      <th>1</th>\n",
       "      <td>27865</td>\n",
       "      <td>2018-01-03 11:14:57</td>\n",
       "      <td>2018-01-04 14:46:10</td>\n",
       "    </tr>\n",
       "    <tr>\n",
       "      <th>2</th>\n",
       "      <td>27884</td>\n",
       "      <td>2018-01-04 11:50:43</td>\n",
       "      <td>2018-01-08 19:37:34</td>\n",
       "    </tr>\n",
       "    <tr>\n",
       "      <th>3</th>\n",
       "      <td>27910</td>\n",
       "      <td>2018-01-05 10:45:33</td>\n",
       "      <td>2018-01-07 12:11:34</td>\n",
       "    </tr>\n",
       "    <tr>\n",
       "      <th>4</th>\n",
       "      <td>27911</td>\n",
       "      <td>2018-01-05 10:48:24</td>\n",
       "      <td>2018-01-07 08:19:12</td>\n",
       "    </tr>\n",
       "    <tr>\n",
       "      <th>...</th>\n",
       "      <td>...</td>\n",
       "      <td>...</td>\n",
       "      <td>...</td>\n",
       "    </tr>\n",
       "    <tr>\n",
       "      <th>1595</th>\n",
       "      <td>47671</td>\n",
       "      <td>2018-12-28 20:48:59</td>\n",
       "      <td>2018-12-30 01:39:50</td>\n",
       "    </tr>\n",
       "    <tr>\n",
       "      <th>1596</th>\n",
       "      <td>47687</td>\n",
       "      <td>2018-12-29 09:49:24</td>\n",
       "      <td>2018-12-30 09:05:28</td>\n",
       "    </tr>\n",
       "    <tr>\n",
       "      <th>1597</th>\n",
       "      <td>47712</td>\n",
       "      <td>2018-12-29 18:21:28</td>\n",
       "      <td>2018-12-31 09:05:20</td>\n",
       "    </tr>\n",
       "    <tr>\n",
       "      <th>1598</th>\n",
       "      <td>47732</td>\n",
       "      <td>2018-12-30 14:20:21</td>\n",
       "      <td>2019-01-06 07:14:25</td>\n",
       "    </tr>\n",
       "    <tr>\n",
       "      <th>1599</th>\n",
       "      <td>47742</td>\n",
       "      <td>2018-12-30 20:48:42</td>\n",
       "      <td>2019-01-04 12:51:41</td>\n",
       "    </tr>\n",
       "  </tbody>\n",
       "</table>\n",
       "<p>1600 rows × 3 columns</p>\n",
       "</div>"
      ],
      "text/plain": [
       "      user_id   registration_time       purchase_time\n",
       "0       27845 2018-01-02 01:35:56 2018-01-03 18:53:43\n",
       "1       27865 2018-01-03 11:14:57 2018-01-04 14:46:10\n",
       "2       27884 2018-01-04 11:50:43 2018-01-08 19:37:34\n",
       "3       27910 2018-01-05 10:45:33 2018-01-07 12:11:34\n",
       "4       27911 2018-01-05 10:48:24 2018-01-07 08:19:12\n",
       "...       ...                 ...                 ...\n",
       "1595    47671 2018-12-28 20:48:59 2018-12-30 01:39:50\n",
       "1596    47687 2018-12-29 09:49:24 2018-12-30 09:05:28\n",
       "1597    47712 2018-12-29 18:21:28 2018-12-31 09:05:20\n",
       "1598    47732 2018-12-30 14:20:21 2019-01-06 07:14:25\n",
       "1599    47742 2018-12-30 20:48:42 2019-01-04 12:51:41\n",
       "\n",
       "[1600 rows x 3 columns]"
      ]
     },
     "execution_count": 33,
     "metadata": {},
     "output_type": "execute_result"
    }
   ],
   "source": [
    "# Объединим данные о времени регистрации и времени совершения покупки по каждому пользователю в отдельную таблицу\n",
    "total_delta_time_df = registration_df.merge(purchase_time_df, on='user_id', how = 'inner')\n",
    "total_delta_time_df"
   ]
  },
  {
   "cell_type": "markdown",
   "metadata": {},
   "source": [
    "Среднее время между оплатой и регистрацией для пользователей, выбравших уровень easy"
   ]
  },
  {
   "cell_type": "code",
   "execution_count": 64,
   "metadata": {},
   "outputs": [
    {
     "name": "stdout",
     "output_type": "stream",
     "text": [
      "Среднее время между оплатой и регистрацией для пользователей, выбравших уровень easy: 3 days 22:10:23.211640211\n"
     ]
    },
    {
     "name": "stderr",
     "output_type": "stream",
     "text": [
      "C:\\Users\\Анастасия\\AppData\\Local\\Temp\\ipykernel_8308\\2688298990.py:2: SettingWithCopyWarning: \n",
      "A value is trying to be set on a copy of a slice from a DataFrame.\n",
      "Try using .loc[row_indexer,col_indexer] = value instead\n",
      "\n",
      "See the caveats in the documentation: https://pandas.pydata.org/pandas-docs/stable/user_guide/indexing.html#returning-a-view-versus-a-copy\n",
      "  easy_delta_time['delta_time'] = (easy_delta_time['purchase_time'] - easy_delta_time['registration_time'])\n"
     ]
    }
   ],
   "source": [
    "easy_delta_time = total_delta_time_df[total_delta_time_df['user_id'].isin(users_easy_level)]\n",
    "easy_delta_time['delta_time'] = (easy_delta_time['purchase_time'] - easy_delta_time['registration_time'])\n",
    "print('Среднее время между оплатой и регистрацией для пользователей, выбравших уровень easy:', easy_delta_time['delta_time'].mean())"
   ]
  },
  {
   "cell_type": "markdown",
   "metadata": {},
   "source": [
    "Среднее время между оплатой и регистрацией для пользователей, выбравших уровень medium"
   ]
  },
  {
   "cell_type": "code",
   "execution_count": 66,
   "metadata": {},
   "outputs": [
    {
     "name": "stdout",
     "output_type": "stream",
     "text": [
      "Среднее время между оплатой и регистрацией для пользователей, выбравших уровень medium: 4 days 06:12:06.576883384\n"
     ]
    },
    {
     "name": "stderr",
     "output_type": "stream",
     "text": [
      "C:\\Users\\Анастасия\\AppData\\Local\\Temp\\ipykernel_8308\\773075277.py:2: SettingWithCopyWarning: \n",
      "A value is trying to be set on a copy of a slice from a DataFrame.\n",
      "Try using .loc[row_indexer,col_indexer] = value instead\n",
      "\n",
      "See the caveats in the documentation: https://pandas.pydata.org/pandas-docs/stable/user_guide/indexing.html#returning-a-view-versus-a-copy\n",
      "  medium_delta_time['delta_time'] = medium_delta_time['purchase_time'] - medium_delta_time['registration_time']\n"
     ]
    }
   ],
   "source": [
    "medium_delta_time = total_delta_time_df[total_delta_time_df['user_id'].isin(users_medium_level)]\n",
    "medium_delta_time['delta_time'] = medium_delta_time['purchase_time'] - medium_delta_time['registration_time']\n",
    "print('Среднее время между оплатой и регистрацией для пользователей, выбравших уровень medium:', medium_delta_time['delta_time'].mean())"
   ]
  },
  {
   "cell_type": "markdown",
   "metadata": {},
   "source": [
    "Среднее время между оплатой и регистрацией для пользователей, выбравших уровень hard"
   ]
  },
  {
   "cell_type": "code",
   "execution_count": 67,
   "metadata": {},
   "outputs": [
    {
     "name": "stdout",
     "output_type": "stream",
     "text": [
      "Среднее время между оплатой и регистрацией для пользователей, выбравших уровень hard: 3 days 14:55:19.257918552\n"
     ]
    },
    {
     "name": "stderr",
     "output_type": "stream",
     "text": [
      "C:\\Users\\Анастасия\\AppData\\Local\\Temp\\ipykernel_8308\\1873550097.py:2: SettingWithCopyWarning: \n",
      "A value is trying to be set on a copy of a slice from a DataFrame.\n",
      "Try using .loc[row_indexer,col_indexer] = value instead\n",
      "\n",
      "See the caveats in the documentation: https://pandas.pydata.org/pandas-docs/stable/user_guide/indexing.html#returning-a-view-versus-a-copy\n",
      "  hard_delta_time['delta_time'] = hard_delta_time['purchase_time'] - hard_delta_time['registration_time']\n"
     ]
    }
   ],
   "source": [
    "hard_delta_time = total_delta_time_df[total_delta_time_df['user_id'].isin(users_hard_level)]\n",
    "hard_delta_time['delta_time'] = hard_delta_time['purchase_time'] - hard_delta_time['registration_time']\n",
    "print('Среднее время между оплатой и регистрацией для пользователей, выбравших уровень hard:', hard_delta_time['delta_time'].mean())"
   ]
  },
  {
   "cell_type": "markdown",
   "metadata": {},
   "source": [
    "**Вывод.**\n",
    "\n",
    "Разница во времени между регистрацией и оплатой пакета вопросов не зависит от выбранного пользователем уровня сложности. В среднем пользователь оплачивает пакет вопросов примерно через 3-4 дня после регистрации."
   ]
  }
 ],
 "metadata": {
  "interpreter": {
   "hash": "5cff6bf011693c3d4f614fe5222e0bf0a6b97bc7ee9ded52fd8775d291da6286"
  },
  "kernelspec": {
   "display_name": "Python 3.9.7 64-bit (system)",
   "language": "python",
   "name": "python3"
  },
  "language_info": {
   "codemirror_mode": {
    "name": "ipython",
    "version": 3
   },
   "file_extension": ".py",
   "mimetype": "text/x-python",
   "name": "python",
   "nbconvert_exporter": "python",
   "pygments_lexer": "ipython3",
   "version": "3.9.7"
  },
  "orig_nbformat": 4
 },
 "nbformat": 4,
 "nbformat_minor": 2
}
